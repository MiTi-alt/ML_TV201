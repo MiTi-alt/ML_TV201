{
  "nbformat": 4,
  "nbformat_minor": 0,
  "metadata": {
    "colab": {
      "provenance": [],
      "include_colab_link": true
    },
    "kernelspec": {
      "name": "python3",
      "display_name": "Python 3"
    },
    "language_info": {
      "name": "python"
    }
  },
  "cells": [
    {
      "cell_type": "markdown",
      "metadata": {
        "id": "view-in-github",
        "colab_type": "text"
      },
      "source": [
        "<a href=\"https://colab.research.google.com/github/MiTi-alt/ML_TV201/blob/main/Lab_6_20130434_TranDinhMinhTien.ipynb\" target=\"_parent\"><img src=\"https://colab.research.google.com/assets/colab-badge.svg\" alt=\"Open In Colab\"/></a>"
      ]
    },
    {
      "cell_type": "markdown",
      "source": [
        "# This lab is to deal with classification task using **Random Forests** and **Naïve Bayes** algorithms with/without **Feature Selection**. \n",
        "\n",
        "*   **Deadline: 23:59, 25/03/2023**\n",
        "\n"
      ],
      "metadata": {
        "id": "LMzehe0sy5wr"
      }
    },
    {
      "cell_type": "markdown",
      "source": [
        "# Import libraries"
      ],
      "metadata": {
        "id": "H4nJmxp9zGX4"
      }
    },
    {
      "cell_type": "code",
      "execution_count": 4,
      "metadata": {
        "id": "DoVWQ8AEyc-C",
        "colab": {
          "base_uri": "https://localhost:8080/"
        },
        "outputId": "a93d92ac-f220-4d1a-c28c-1aba072ff818"
      },
      "outputs": [
        {
          "output_type": "stream",
          "name": "stdout",
          "text": [
            "Drive already mounted at /content/gdrive; to attempt to forcibly remount, call drive.mount(\"/content/gdrive\", force_remount=True).\n",
            "/content/gdrive/MyDrive/ML_TH_2023\n"
          ]
        }
      ],
      "source": [
        "# code\n",
        "from sklearn.datasets import fetch_openml\n",
        "from sklearn.svm import SVC\n",
        "from sklearn.metrics import accuracy_score, precision_score, recall_score, f1_score\n",
        "from prettytable import PrettyTable\n",
        "from sklearn.datasets import load_iris\n",
        "from sklearn import datasets\n",
        "from google.colab import drive\n",
        "drive.mount('/content/gdrive')\n",
        "%cd '/content/gdrive/MyDrive/ML_TH_2023'\n",
        "from sklearn.preprocessing import StandardScaler\n",
        "import pandas as pd\n",
        "from sklearn.preprocessing import OneHotEncoder\n",
        "from sklearn.model_selection import train_test_split\n",
        "from sklearn.tree import DecisionTreeClassifier\n",
        "from sklearn.ensemble import RandomForestClassifier\n",
        "from sklearn.neighbors import KNeighborsClassifier\n",
        "from sklearn.naive_bayes import GaussianNB\n",
        "from sklearn.feature_selection import SelectKBest, chi2\n",
        "from sklearn.feature_selection import RFE\n",
        "from sklearn.metrics import average_precision_score\n",
        "from sklearn.linear_model import LogisticRegression\n",
        "from sklearn import svm"
      ]
    },
    {
      "cell_type": "markdown",
      "source": [
        "#Task 1. \n",
        "Task 1. Compare the performance of selected classification algorithms including **Random forest**, **NaiveBayes**, and **SVM** with **mnist** dataset based on **accuracy, precision, recall, f1** measures according to **without using selection feature** and **using selection feature**.\n",
        "\n"
      ],
      "metadata": {
        "id": "kNv07ARGzOUm"
      }
    },
    {
      "cell_type": "code",
      "source": [
        "# code\n",
        "mnist = datasets.load_digits()\n",
        "X = mnist.data\n",
        "y = mnist.target\n",
        "\n",
        "X_train, X_test, y_train, y_test = train_test_split(X, y, test_size=0.2, random_state=8)\n",
        "clf=RandomForestClassifier(n_estimators=100)\n",
        "\n",
        "clf.fit(X_train, y_train)\n",
        "\n",
        "nb = GaussianNB()\n",
        "nb.fit(X_train, y_train)\n",
        "\n",
        "svm = SVC()\n",
        "svm.fit(X_train, y_train)\n",
        "clf_pred = clf.predict(X_test)\n",
        "clf_acc = accuracy_score(y_test, clf_pred)\n",
        "clf_pre = precision_score(y_test, clf_pred, average='weighted')\n",
        "clf_rec = recall_score(y_test, clf_pred, average='weighted')\n",
        "clf_f1 = f1_score(y_test, clf_pred, average='weighted')\n",
        "\n",
        "nb_pred = nb.predict(X_test)\n",
        "nb_acc = accuracy_score(y_test, nb_pred)\n",
        "nb_pre = precision_score(y_test, nb_pred, average='weighted')\n",
        "nb_rec = recall_score(y_test, nb_pred, average='weighted')\n",
        "nb_f1 = f1_score(y_test, nb_pred, average='weighted')\n",
        "\n",
        "svm_pred = svm.predict(X_test)\n",
        "svm_acc = accuracy_score(y_test, svm_pred)\n",
        "svm_pre = precision_score(y_test, svm_pred, average='weighted')\n",
        "svm_rec = recall_score(y_test, svm_pred, average='weighted')\n",
        "svm_f1 = f1_score(y_test, svm_pred, average='weighted')\n",
        "\n",
        "t = PrettyTable([\"algorithms\",\"Random Forest\",\"Naive Bayes\",\"Support Vector Machine\"])\n",
        "t.add_row([\"Accuracy\",clf_acc,nb_acc,svm_acc])\n",
        "t.add_row([\"Precision\",clf_pre,nb_pre,svm_pre])\n",
        "t.add_row([\"Recall\",clf_rec,nb_rec,svm_rec])\n",
        "t.add_row([\"F1 Score:\",clf_f1,nb_f1,svm_f1])\n",
        "print(t)\n",
        "\n"
      ],
      "metadata": {
        "id": "sOsg77IBzEyo",
        "colab": {
          "base_uri": "https://localhost:8080/"
        },
        "outputId": "5f0a3bc0-1923-4546-c78b-1a9763a67d39"
      },
      "execution_count": null,
      "outputs": [
        {
          "output_type": "stream",
          "name": "stdout",
          "text": [
            "+------------+--------------------+--------------------+------------------------+\n",
            "| algorithms |   Random Forest    |    Naive Bayes     | Support Vector Machine |\n",
            "+------------+--------------------+--------------------+------------------------+\n",
            "|  Accuracy  | 0.9638888888888889 | 0.8194444444444444 |   0.9805555555555555   |\n",
            "| Precision  | 0.9659283564388323 | 0.8665616869790489 |   0.9811124551971326   |\n",
            "|   Recall   | 0.9638888888888889 | 0.8194444444444444 |   0.9805555555555555   |\n",
            "| F1 Score:  | 0.963758796002071  | 0.8226013409125894 |   0.9805406180148828   |\n",
            "+------------+--------------------+--------------------+------------------------+\n"
          ]
        }
      ]
    },
    {
      "cell_type": "markdown",
      "source": [
        "#Task 2. \n",
        "For given bank dataset (bank.csv) having the following attributes :\n",
        "1.\t**age** (numeric)\n",
        "2.\t**job** : type of job (categorical: 'admin.','blue-collar','entrepreneur','housemaid','management','retired','self-employed','services','student','technician','unemployed','unknown')\n",
        "3.\t**marital** : marital status (categorical: 'divorced','married','single','unknown'; note: 'divorced' means divorced or widowed)\n",
        "4.\t**education** (categorical: 'basic.4y','basic.6y','basic.9y','high.school','illiterate','professional.course','university.degree','unknown')\n",
        "5.\t**default**: has credit in default? (categorical: 'no','yes','unknown')\n",
        "6.\t**housing**: has housing loan? (categorical: 'no','yes','unknown')\n",
        "7.\t**loan**: has personal loan? (categorical: 'no','yes','unknown')\n",
        "8.\t**contact**: contact communication type (categorical: 'cellular','telephone')\n",
        "9.\t**month**: last contact month of year (categorical: 'jan', 'feb', 'mar', ..., 'nov', 'dec')\n",
        "10.\t**day_of_week**: last contact day of the week (categorical: 'mon','tue','wed','thu','fri')\n",
        "11.\t**duration**: last contact duration, in seconds (numeric). Important note: this attribute highly affects the output target (e.g., if duration=0 then y='no'). Yet, the duration is not known before a call is performed. Also, after the end of the call y is obviously known. Thus, this input should only be included for benchmark purposes and should be discarded if the intention is to have a realistic predictive model.\n",
        "12.\t**campaign**: number of contacts performed during this campaign and for this client (numeric, includes last contact)\n",
        "13.\t**pdays**: number of days that passed by after the client was last contacted from a previous campaign (numeric; 999 means client was not previously contacted)\n",
        "14.\t**previous**: number of contacts performed before this campaign and for this client (numeric)\n",
        "15.\t**poutcome**: outcome of the previous marketing campaign (categorical: 'failure','nonexistent','success')\n",
        "Output variable (desired target):\n",
        "16.\t**y**. has the client subscribed a term deposit? (binary: 'yes','no')\n",
        "\n"
      ],
      "metadata": {
        "id": "b52OPWPD2afi"
      }
    },
    {
      "cell_type": "markdown",
      "source": [
        "#3.1. Apply StandardScaler() function to columns that contains numerical data ('age', 'balance', 'day', 'campaign', 'pdays', 'previous')"
      ],
      "metadata": {
        "id": "q89LEvT7dqaZ"
      }
    },
    {
      "cell_type": "code",
      "source": [
        "#code\n",
        "data = pd.read_csv(\"bank.csv\")\n",
        "\n",
        "numerical_cols = [\"age\", \"balance\", \"day\", \"campaign\", \"pdays\", \"previous\"]\n",
        "\n",
        "scaler = StandardScaler()\n",
        "data[numerical_cols] = scaler.fit_transform(data[numerical_cols])\n",
        "print(data[numerical_cols])"
      ],
      "metadata": {
        "id": "8vx3mfIidu4P",
        "colab": {
          "base_uri": "https://localhost:8080/"
        },
        "outputId": "17c53ebc-edf0-4846-ed70-da8ddefda9d5"
      },
      "execution_count": 20,
      "outputs": [
        {
          "output_type": "stream",
          "name": "stdout",
          "text": [
            "            age   balance       day  campaign     pdays  previous\n",
            "0      1.491505  0.252525 -1.265746 -0.554168 -0.481184 -0.363260\n",
            "1      1.239676 -0.459974 -1.265746 -0.554168 -0.481184 -0.363260\n",
            "2     -0.019470 -0.080160 -1.265746 -0.554168 -0.481184 -0.363260\n",
            "3      1.155733  0.293762 -1.265746 -0.554168 -0.481184 -0.363260\n",
            "4      1.071790 -0.416876 -1.265746 -0.186785 -0.481184 -0.363260\n",
            "...         ...       ...       ...       ...       ...       ...\n",
            "11157 -0.691015 -0.473616  0.515650 -0.554168 -0.481184 -0.363260\n",
            "11158 -0.187357 -0.246658  0.040612  0.547981 -0.481184 -0.363260\n",
            "11159 -0.774958 -0.464934  0.396891 -0.186785 -0.481184 -0.363260\n",
            "11160  0.148416 -0.473926 -0.909466 -0.186785  1.109571  1.818332\n",
            "11161 -0.607072 -0.473926 -0.790707 -0.554168 -0.481184 -0.363260\n",
            "\n",
            "[11162 rows x 6 columns]\n"
          ]
        }
      ]
    },
    {
      "cell_type": "markdown",
      "source": [
        "#3.2. Apply Encode Categorical Value (OneHotEncoder) to transfrom categorical data to numerical data ('job', 'marital', 'education', 'default', 'housing', 'loan', 'contact', 'month', 'poutcome')"
      ],
      "metadata": {
        "id": "r7acR0TxdvY8"
      }
    },
    {
      "cell_type": "code",
      "source": [
        "#code\n",
        "cat_cols = ['job', 'marital', 'education', 'default', 'housing', 'loan', 'contact', 'month', 'poutcome']\n",
        "onehotencoder = OneHotEncoder()\n",
        "onehot_encoded = onehotencoder.fit_transform(data[cat_cols]).toarray()\n",
        "onehot_encoded_df = pd.DataFrame(onehot_encoded, columns = onehotencoder.get_feature_names_out(cat_cols))\n",
        "data.drop(columns = cat_cols, inplace=True)\n",
        "bank_data_encoded = pd.concat([data, onehot_encoded_df], axis=1)\n",
        "print(bank_data_encoded)\n",
        "\n"
      ],
      "metadata": {
        "id": "egtgBmAtd0um",
        "colab": {
          "base_uri": "https://localhost:8080/"
        },
        "outputId": "4261ecb1-868f-40d9-f887-1dd1a8c5a1a8"
      },
      "execution_count": 23,
      "outputs": [
        {
          "output_type": "stream",
          "name": "stdout",
          "text": [
            "            age   balance       day  duration  campaign     pdays  previous  \\\n",
            "0      1.491505  0.252525 -1.265746      1042 -0.554168 -0.481184 -0.363260   \n",
            "1      1.239676 -0.459974 -1.265746      1467 -0.554168 -0.481184 -0.363260   \n",
            "2     -0.019470 -0.080160 -1.265746      1389 -0.554168 -0.481184 -0.363260   \n",
            "3      1.155733  0.293762 -1.265746       579 -0.554168 -0.481184 -0.363260   \n",
            "4      1.071790 -0.416876 -1.265746       673 -0.186785 -0.481184 -0.363260   \n",
            "...         ...       ...       ...       ...       ...       ...       ...   \n",
            "11157 -0.691015 -0.473616  0.515650       257 -0.554168 -0.481184 -0.363260   \n",
            "11158 -0.187357 -0.246658  0.040612        83  0.547981 -0.481184 -0.363260   \n",
            "11159 -0.774958 -0.464934  0.396891       156 -0.186785 -0.481184 -0.363260   \n",
            "11160  0.148416 -0.473926 -0.909466         9 -0.186785  1.109571  1.818332   \n",
            "11161 -0.607072 -0.473926 -0.790707       628 -0.554168 -0.481184 -0.363260   \n",
            "\n",
            "      deposit  job_admin.  job_blue-collar  ...  month_jun  month_mar  \\\n",
            "0         yes         1.0              0.0  ...        0.0        0.0   \n",
            "1         yes         1.0              0.0  ...        0.0        0.0   \n",
            "2         yes         0.0              0.0  ...        0.0        0.0   \n",
            "3         yes         0.0              0.0  ...        0.0        0.0   \n",
            "4         yes         1.0              0.0  ...        0.0        0.0   \n",
            "...       ...         ...              ...  ...        ...        ...   \n",
            "11157      no         0.0              1.0  ...        0.0        0.0   \n",
            "11158      no         0.0              0.0  ...        1.0        0.0   \n",
            "11159      no         0.0              0.0  ...        0.0        0.0   \n",
            "11160      no         0.0              0.0  ...        0.0        0.0   \n",
            "11161      no         0.0              0.0  ...        0.0        0.0   \n",
            "\n",
            "       month_may  month_nov  month_oct  month_sep  poutcome_failure  \\\n",
            "0            1.0        0.0        0.0        0.0               0.0   \n",
            "1            1.0        0.0        0.0        0.0               0.0   \n",
            "2            1.0        0.0        0.0        0.0               0.0   \n",
            "3            1.0        0.0        0.0        0.0               0.0   \n",
            "4            1.0        0.0        0.0        0.0               0.0   \n",
            "...          ...        ...        ...        ...               ...   \n",
            "11157        0.0        0.0        0.0        0.0               0.0   \n",
            "11158        0.0        0.0        0.0        0.0               0.0   \n",
            "11159        0.0        0.0        0.0        0.0               0.0   \n",
            "11160        1.0        0.0        0.0        0.0               1.0   \n",
            "11161        0.0        0.0        0.0        0.0               0.0   \n",
            "\n",
            "       poutcome_other  poutcome_success  poutcome_unknown  \n",
            "0                 0.0               0.0               1.0  \n",
            "1                 0.0               0.0               1.0  \n",
            "2                 0.0               0.0               1.0  \n",
            "3                 0.0               0.0               1.0  \n",
            "4                 0.0               0.0               1.0  \n",
            "...               ...               ...               ...  \n",
            "11157             0.0               0.0               1.0  \n",
            "11158             0.0               0.0               1.0  \n",
            "11159             0.0               0.0               1.0  \n",
            "11160             0.0               0.0               0.0  \n",
            "11161             0.0               0.0               1.0  \n",
            "\n",
            "[11162 rows x 52 columns]\n"
          ]
        }
      ]
    },
    {
      "cell_type": "markdown",
      "source": [
        "#3.3. Apply **Decision tree, Random forest, kNN, NaïveBayes** to preproceed dataset in the previous steps. Then compare the obtained results using **accuracy, precision, recall, f1** measures."
      ],
      "metadata": {
        "id": "K2Si6d69d1nh"
      }
    },
    {
      "cell_type": "code",
      "source": [
        "#code\n",
        "X = bank_data_encoded.drop('deposit', axis=1)\n",
        "y = bank_data_encoded['deposit']\n",
        "X_train, X_test, y_train, y_test = train_test_split(X, y, test_size=0.2, random_state=8)\n",
        "\n",
        "dt = DecisionTreeClassifier(random_state=8)\n",
        "dt.fit(X_train, y_train)\n",
        "y_pred_dt = dt.predict(X_test)\n",
        "acc_dt = accuracy_score(y_test, y_pred_dt)\n",
        "prec_dt = precision_score(y_test, y_pred_dt, pos_label='yes')\n",
        "rec_dt = recall_score(y_test, y_pred_dt, pos_label='yes')\n",
        "f1_dt = f1_score(y_test, y_pred_dt, pos_label='yes')\n",
        "\n",
        "rf = RandomForestClassifier(random_state=8)\n",
        "rf.fit(X_train, y_train)\n",
        "y_pred_rf = rf.predict(X_test)\n",
        "acc_rf = accuracy_score(y_test, y_pred_rf)\n",
        "prec_rf = precision_score(y_test, y_pred_rf, pos_label='yes')\n",
        "rec_rf = recall_score(y_test, y_pred_rf, pos_label='yes')\n",
        "f1_rf = f1_score(y_test, y_pred_rf, pos_label='yes')\n",
        "\n",
        "knn = KNeighborsClassifier()\n",
        "knn.fit(X_train, y_train)\n",
        "y_pred_knn = knn.predict(X_test)\n",
        "acc_knn = accuracy_score(y_test, y_pred_knn)\n",
        "prec_knn = precision_score(y_test, y_pred_knn, pos_label='yes')\n",
        "rec_knn = recall_score(y_test, y_pred_knn, pos_label='yes')\n",
        "f1_knn = f1_score(y_test, y_pred_knn, pos_label='yes')\n",
        "\n",
        "nb = GaussianNB()\n",
        "nb.fit(X_train, y_train)\n",
        "y_pred_nb = nb.predict(X_test)\n",
        "acc_nb = accuracy_score(y_test, y_pred_nb)\n",
        "prec_nb = precision_score(y_test, y_pred_nb,pos_label='yes')\n",
        "rec_nb = recall_score(y_test, y_pred_nb,pos_label='yes')\n",
        "f1_nb = f1_score(y_test, y_pred_nb,pos_label='yes')\n",
        "\n",
        "t = PrettyTable([\"algorithms\",\"Decision Tree\",\"Random Forest\",\"KNN\",\"Naive Bayes\"])\n",
        "t.add_row([\"Accuracy\",acc_dt,acc_rf,acc_knn,acc_nb])\n",
        "t.add_row([\"Precision\",prec_dt,acc_rf,prec_knn,prec_nb])\n",
        "t.add_row([\"Recall\",rec_dt,rec_rf,rec_knn,rec_nb])\n",
        "t.add_row([\"F1 Score:\",f1_dt,f1_rf,f1_knn,f1_nb])\n",
        "print(t)"
      ],
      "metadata": {
        "id": "Ouil-cf_d8jW",
        "colab": {
          "base_uri": "https://localhost:8080/"
        },
        "outputId": "0fb5b706-7c49-416c-9835-349a5cac51f7"
      },
      "execution_count": 40,
      "outputs": [
        {
          "output_type": "stream",
          "name": "stdout",
          "text": [
            "+------------+--------------------+--------------------+--------------------+--------------------+\n",
            "| algorithms |   Decision Tree    |   Random Forest    |        KNN         |    Naive Bayes     |\n",
            "+------------+--------------------+--------------------+--------------------+--------------------+\n",
            "|  Accuracy  | 0.8007165248544559 | 0.8607254814151366 |  0.77384684281236  | 0.7174205105239588 |\n",
            "| Precision  | 0.784037558685446  | 0.8607254814151366 | 0.7602674307545367 | 0.7760210803689065 |\n",
            "|   Recall   | 0.7952380952380952 | 0.9066666666666666 | 0.758095238095238  | 0.560952380952381  |\n",
            "| F1 Score:  | 0.789598108747045  | 0.8595936794582393 | 0.759179780639008  | 0.6511885019347707 |\n",
            "+------------+--------------------+--------------------+--------------------+--------------------+\n"
          ]
        }
      ]
    },
    {
      "cell_type": "markdown",
      "source": [
        "#3.4. Using selection feature to above dataset, then compare the classification results with those in Task 2.3. "
      ],
      "metadata": {
        "id": "SweVRB4meApP"
      }
    },
    {
      "cell_type": "code",
      "source": [
        "#code\n",
        "\n",
        "X = bank_data_encoded.drop('deposit', axis=1)\n",
        "y = bank_data_encoded['deposit']\n",
        "X_train, X_test, y_train, y_test = train_test_split(X, y, test_size=0.3)\n",
        "\n",
        "dt = DecisionTreeClassifier()\n",
        "selector = RFE(dt, n_features_to_select=8)\n",
        "X_train_selected = selector.fit_transform(X_train, y_train)\n",
        "X_test_selected = selector.transform(X_test)\n",
        "\n",
        "dt.fit(X_train_selected, y_train)\n",
        "y_pred_dt = dt.predict(X_test_selected)\n",
        "acc_dt = accuracy_score(y_test, y_pred_dt)\n",
        "prec_dt = precision_score(y_test, y_pred_dt, pos_label='yes')\n",
        "rec_dt = recall_score(y_test, y_pred_dt, pos_label='yes')\n",
        "f1_dt = f1_score(y_test, y_pred_dt, pos_label='yes')\n",
        "\n",
        "rf = RandomForestClassifier()\n",
        "selector_rf = RFE(rf, n_features_to_select=8)\n",
        "X_train_selected_rf = selector_rf.fit_transform(X_train, y_train)\n",
        "X_test_selected_rf = selector_rf.transform(X_test)\n",
        "rf.fit(X_train_selected_rf, y_train)\n",
        "y_pred_rf = rf.predict(X_test_selected_rf)\n",
        "acc_rf = accuracy_score(y_test, y_pred_rf)\n",
        "prec_rf = precision_score(y_test, y_pred_rf, pos_label='yes')\n",
        "rec_rf = recall_score(y_test, y_pred_rf, pos_label='yes')\n",
        "f1_rf = f1_score(y_test, y_pred_rf, pos_label='yes')\n",
        "\n",
        "t = PrettyTable([\"algorithms\",\"Decision Tree\",\"Random Forest\"])\n",
        "t.add_row([\"Accuracy\",acc_dt,acc_rf])\n",
        "t.add_row([\"Precision\",prec_dt,acc_rf])\n",
        "t.add_row([\"Recall\",rec_dt,rec_rf])\n",
        "t.add_row([\"F1 Score:\",f1_dt,f1_rf])\n",
        "print(t)"
      ],
      "metadata": {
        "id": "seFBhqCSeC7C",
        "colab": {
          "base_uri": "https://localhost:8080/"
        },
        "outputId": "612549bf-ecf2-4e85-ae88-81eed6c20332"
      },
      "execution_count": 72,
      "outputs": [
        {
          "output_type": "stream",
          "name": "stdout",
          "text": [
            "+------------+--------------------+--------------------+\n",
            "| algorithms |   Decision Tree    |   Random Forest    |\n",
            "+------------+--------------------+--------------------+\n",
            "|  Accuracy  | 0.7429083308450284 | 0.8235294117647058 |\n",
            "| Precision  | 0.724937343358396  | 0.8235294117647058 |\n",
            "|   Recall   | 0.7327422419252692 | 0.8366054464851171 |\n",
            "| F1 Score:  | 0.7288188976377953 | 0.8171976492421898 |\n",
            "+------------+--------------------+--------------------+\n"
          ]
        }
      ]
    },
    {
      "cell_type": "markdown",
      "source": [
        "#Task 4. \n",
        "For a given dataset in the Lab #5 (**credit card dataset**), perform feature selection and thencompare the performance of selected classification algorithms (Decision Tree, kNN, Logistic Regression, SVM, Random Forest and NaiveBayes) based on accuracy, precision, recall, f1 measures.\n"
      ],
      "metadata": {
        "id": "Z5pp7_h-aP2u"
      }
    },
    {
      "cell_type": "code",
      "source": [
        "# code\n",
        "file = pd.read_csv('creditcard.csv')\n",
        "X = file.drop('Class', axis=1)\n",
        "y = file['Class']\n",
        "X_train, X_test, y_train, y_test = train_test_split(X, y, test_size=0.2, random_state=3)\n",
        "dtc = DecisionTreeClassifier(random_state=3)\n",
        "dtc.fit(X_train, y_train)\n",
        "y_pred_dtc = dtc.predict(X_test)\n",
        "dtc_acc = accuracy_score(y_test, y_pred_dtc)\n",
        "dtc_prec = precision_score(y_test, y_pred_dtc)\n",
        "dtc_rec = recall_score(y_test, y_pred_dtc)\n",
        "dtc_f1 = f1_score(y_test, y_pred_dtc)\n",
        "\n",
        "knn = KNeighborsClassifier(n_neighbors=5)\n",
        "knn.fit(X_train, y_train)\n",
        "y_pred_knn = knn.predict(X_test)\n",
        "knn_acc = accuracy_score(y_test, y_pred_knn)\n",
        "knn_prec = precision_score(y_test, y_pred_knn)\n",
        "knn_rec = recall_score(y_test, y_pred_knn)\n",
        "knn_f1 = f1_score(y_test, y_pred_knn)\n",
        "\n",
        "lg = LogisticRegression(random_state=3)\n",
        "lg.fit(X_train, y_train)\n",
        "y_pred_lg = lg.predict(X_test)\n",
        "lg_acc = accuracy_score(y_test, y_pred_lg)\n",
        "lg_prec = precision_score(y_test, y_pred_lg)\n",
        "lg_rec = recall_score(y_test, y_pred_lg)\n",
        "lg_f1 = f1_score(y_test, y_pred_lg)\n",
        "\n",
        "\n",
        "\n",
        "clf = svm.SVC(kernel='rbf', random_state=3)\n",
        "clf.fit(X_train, y_train)\n",
        "y_pred_clf = clf.predict(X_test)\n",
        "clf_acc = accuracy_score(y_test, y_pred_clf)\n",
        "clf_prec = precision_score(y_test, y_pred_clf)\n",
        "clf_rec = recall_score(y_test, y_pred_clf)\n",
        "clf_f1 = f1_score(y_test, y_pred_clf)\n",
        "\n",
        "nb = GaussianNB()\n",
        "nb.fit(X_train, y_train)\n",
        "y_pred_nb = nb.predict(X_test)\n",
        "acc_nb = accuracy_score(y_test, y_pred_nb)\n",
        "prec_nb = precision_score(y_test, y_pred_nb)\n",
        "rec_nb = recall_score(y_test, y_pred_nb)\n",
        "f1_nb = f1_score(y_test, y_pred_nb)\n",
        "\n",
        "\n",
        "t = PrettyTable([\"algorithms\",\"SVM\",\"Logistic Regression\",\"Decision Tree\",\"kNN\",\"Naive Bayes\"])\n",
        "t.add_row([\"Accuracy\",clf_acc,lg_acc,dtc_acc,knn_acc,acc_nb])\n",
        "t.add_row([\"Precision\",clf_prec,lg_prec,dtc_prec,knn_prec,prec_nb])\n",
        "t.add_row([\"Recall\",clf_rec,lg_rec,dtc_rec,knn_rec,rec_nb])\n",
        "t.add_row([\"F1 Score:\",clf_f1,lg_f1,dtc_f1,knn_f1,f1_nb])\n",
        "print(t)"
      ],
      "metadata": {
        "id": "Rw_-8FIf2KxW",
        "colab": {
          "base_uri": "https://localhost:8080/"
        },
        "outputId": "9fc69d5a-106f-4ce3-fa1f-6ecede0e8f34"
      },
      "execution_count": 7,
      "outputs": [
        {
          "output_type": "stream",
          "name": "stderr",
          "text": [
            "/usr/local/lib/python3.9/dist-packages/sklearn/linear_model/_logistic.py:458: ConvergenceWarning: lbfgs failed to converge (status=1):\n",
            "STOP: TOTAL NO. of ITERATIONS REACHED LIMIT.\n",
            "\n",
            "Increase the number of iterations (max_iter) or scale the data as shown in:\n",
            "    https://scikit-learn.org/stable/modules/preprocessing.html\n",
            "Please also refer to the documentation for alternative solver options:\n",
            "    https://scikit-learn.org/stable/modules/linear_model.html#logistic-regression\n",
            "  n_iter_i = _check_optimize_result(\n",
            "/usr/local/lib/python3.9/dist-packages/sklearn/metrics/_classification.py:1344: UndefinedMetricWarning: Precision is ill-defined and being set to 0.0 due to no predicted samples. Use `zero_division` parameter to control this behavior.\n",
            "  _warn_prf(average, modifier, msg_start, len(result))\n"
          ]
        },
        {
          "output_type": "stream",
          "name": "stdout",
          "text": [
            "+------------+--------------------+---------------------+--------------------+---------------------+---------------------+\n",
            "| algorithms |        SVM         | Logistic Regression |   Decision Tree    |         kNN         |     Naive Bayes     |\n",
            "+------------+--------------------+---------------------+--------------------+---------------------+---------------------+\n",
            "|  Accuracy  | 0.9982444436641972 |  0.9988062216916541 | 0.9992099996488887 |  0.9982971103542713 |  0.9919946631087392 |\n",
            "| Precision  |        0.0         |  0.6568627450980392 | 0.8089887640449438 |  0.7142857142857143 | 0.11965811965811966 |\n",
            "|   Recall   |        0.0         |         0.67        |        0.72        |         0.05        |         0.56        |\n",
            "| F1 Score:  |        0.0         |  0.6633663366336634 | 0.761904761904762  | 0.09345794392523366 | 0.19718309859154928 |\n",
            "+------------+--------------------+---------------------+--------------------+---------------------+---------------------+\n"
          ]
        }
      ]
    },
    {
      "cell_type": "markdown",
      "source": [
        "#Finally,\n",
        "Save a copy in your Github. Remember renaming the notebook."
      ],
      "metadata": {
        "id": "Ok7RGkea_b7n"
      }
    }
  ]
}