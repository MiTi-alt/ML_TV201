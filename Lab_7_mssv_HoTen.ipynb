{
  "nbformat": 4,
  "nbformat_minor": 0,
  "metadata": {
    "colab": {
      "provenance": [],
      "include_colab_link": true
    },
    "kernelspec": {
      "name": "python3",
      "display_name": "Python 3"
    },
    "language_info": {
      "name": "python"
    }
  },
  "cells": [
    {
      "cell_type": "markdown",
      "metadata": {
        "id": "view-in-github",
        "colab_type": "text"
      },
      "source": [
        "<a href=\"https://colab.research.google.com/github/MiTi-alt/ML_TV201/blob/main/Lab_7_mssv_HoTen.ipynb\" target=\"_parent\"><img src=\"https://colab.research.google.com/assets/colab-badge.svg\" alt=\"Open In Colab\"/></a>"
      ]
    },
    {
      "cell_type": "markdown",
      "source": [
        "# This lab deals with **cross validation** for some classification algorithms and **clustering methods**. \n",
        "\n",
        "*   **Deadline: 23:59, 10/4/2023**\n",
        "\n"
      ],
      "metadata": {
        "id": "LMzehe0sy5wr"
      }
    },
    {
      "cell_type": "markdown",
      "source": [
        "# Import libraries"
      ],
      "metadata": {
        "id": "H4nJmxp9zGX4"
      }
    },
    {
      "cell_type": "code",
      "execution_count": 17,
      "metadata": {
        "id": "DoVWQ8AEyc-C",
        "colab": {
          "base_uri": "https://localhost:8080/"
        },
        "outputId": "851fb3ad-1771-4a75-d59e-ce29ecdd50d2"
      },
      "outputs": [
        {
          "output_type": "stream",
          "name": "stdout",
          "text": [
            "Drive already mounted at /content/gdrive; to attempt to forcibly remount, call drive.mount(\"/content/gdrive\", force_remount=True).\n",
            "/content/gdrive/MyDrive/ML_TH_2023\n"
          ]
        }
      ],
      "source": [
        "# code\n",
        "from sklearn.datasets import load_iris\n",
        "from sklearn.svm import SVC\n",
        "from sklearn.model_selection import cross_val_score\n",
        "from sklearn.ensemble import RandomForestClassifier\n",
        "from sklearn.feature_selection import SelectKBest, f_classif\n",
        "from sklearn.cluster import KMeans\n",
        "from sklearn import datasets\n",
        "from sklearn.model_selection import cross_validate\n",
        "from sklearn.neighbors import KNeighborsClassifier\n",
        "from sklearn.naive_bayes import GaussianNB\n",
        "from sklearn.metrics import accuracy_score, precision_score, recall_score, f1_score\n",
        "from prettytable import PrettyTable\n",
        "from sklearn.preprocessing import StandardScaler\n",
        "from sklearn.cluster import AgglomerativeClustering\n",
        "from google.colab import drive\n",
        "drive.mount('/content/gdrive')\n",
        "%cd '/content/gdrive/MyDrive/ML_TH_2023'\n",
        "from sklearn.preprocessing import StandardScaler\n",
        "import pandas as pd\n",
        "import matplotlib.pyplot as plt\n",
        "from scipy.cluster.hierarchy import dendrogram, linkage\n"
      ]
    },
    {
      "cell_type": "markdown",
      "source": [
        "#Task 1. With **iris** dataset\n",
        "*  1.1. Apply **SVM** algorithm with cross validation\n"
      ],
      "metadata": {
        "id": "x_dG9SA5OhGT"
      }
    },
    {
      "cell_type": "code",
      "source": [
        "#code\n",
        "iris = load_iris()\n",
        "X = iris.data\n",
        "y = iris.target\n",
        "svm = SVC(kernel='linear', C=1, max_iter=-1)\n",
        "scores = cross_val_score(svm, X, y, cv=5)\n",
        "mean_score = scores.mean()\n",
        "print(mean_score)"
      ],
      "metadata": {
        "id": "62jExOZ952fF",
        "colab": {
          "base_uri": "https://localhost:8080/"
        },
        "outputId": "f495de22-40a2-4ef6-f3de-cddf6631c6fd"
      },
      "execution_count": 3,
      "outputs": [
        {
          "output_type": "stream",
          "name": "stdout",
          "text": [
            "0.9800000000000001\n"
          ]
        }
      ]
    },
    {
      "cell_type": "markdown",
      "source": [
        "*  1.2 Apply **feature selection** to the dataset and then use **RandomForest** algorithm with cross validation "
      ],
      "metadata": {
        "id": "2g--8cng53sY"
      }
    },
    {
      "cell_type": "code",
      "source": [
        "\n",
        "selector = SelectKBest(f_classif, k=2)\n",
        "X_new = selector.fit_transform(X, y)\n",
        "rf = RandomForestClassifier(n_estimators=100, max_depth=2, random_state=42)\n",
        "scores = cross_val_score(rf, X_new, y, cv=5)\n",
        "mean_score = scores.mean()\n",
        "\n",
        "print(mean_score)"
      ],
      "metadata": {
        "id": "fX0_kItYPism",
        "colab": {
          "base_uri": "https://localhost:8080/"
        },
        "outputId": "e31c9944-470c-4019-e9be-48104109322a"
      },
      "execution_count": 7,
      "outputs": [
        {
          "output_type": "stream",
          "name": "stdout",
          "text": [
            "0.96\n"
          ]
        }
      ]
    },
    {
      "cell_type": "markdown",
      "source": [
        "#Task 2. With mnist dataset: \n",
        "*   2.1. Apply **K-Means** algorithm using k=10, "
      ],
      "metadata": {
        "id": "kNv07ARGzOUm"
      }
    },
    {
      "cell_type": "code",
      "source": [
        "# code\n",
        "mnist = datasets.load_digits()\n",
        "X = mnist['data']\n",
        "y= mnist['target']\n",
        "kmeans = KMeans(n_clusters=10, random_state=42)\n",
        "kmeans.fit(X)\n",
        "cluster_centers = kmeans.cluster_centers_\n",
        "print(cluster_centers)"
      ],
      "metadata": {
        "id": "sOsg77IBzEyo",
        "colab": {
          "base_uri": "https://localhost:8080/"
        },
        "outputId": "9a310afb-01ed-4897-f6c9-5b489aadebfe"
      },
      "execution_count": 2,
      "outputs": [
        {
          "output_type": "stream",
          "name": "stderr",
          "text": [
            "/usr/local/lib/python3.9/dist-packages/sklearn/cluster/_kmeans.py:870: FutureWarning: The default value of `n_init` will change from 10 to 'auto' in 1.4. Set the value of `n_init` explicitly to suppress the warning\n",
            "  warnings.warn(\n"
          ]
        },
        {
          "output_type": "stream",
          "name": "stdout",
          "text": [
            "[[ 0.00000000e+00  2.23463687e-02  4.22905028e+00  1.31396648e+01\n",
            "   1.12681564e+01  2.93854749e+00  3.35195531e-02 -5.55111512e-17\n",
            "  -1.73472348e-18  8.82681564e-01  1.26201117e+01  1.33687151e+01\n",
            "   1.14078212e+01  1.13687151e+01  9.60893855e-01  2.77555756e-17\n",
            "  -8.67361738e-19  3.72625698e+00  1.42122905e+01  5.25139665e+00\n",
            "   2.10614525e+00  1.21173184e+01  3.53072626e+00  1.04083409e-16\n",
            "  -1.30104261e-18  5.29608939e+00  1.26424581e+01  2.03351955e+00\n",
            "   2.29050279e-01  9.07821229e+00  6.47486034e+00 -2.60208521e-18\n",
            "   0.00000000e+00  5.88268156e+00  1.14916201e+01  8.65921788e-01\n",
            "   3.35195531e-02  8.81005587e+00  7.15083799e+00  0.00000000e+00\n",
            "  -1.04083409e-17  3.51396648e+00  1.32849162e+01  1.65921788e+00\n",
            "   1.49162011e+00  1.13519553e+01  5.84357542e+00 -1.04083409e-17\n",
            "  -4.33680869e-18  8.04469274e-01  1.31117318e+01  9.96089385e+00\n",
            "   1.03519553e+01  1.32960894e+01  2.47486034e+00  2.23463687e-02\n",
            "  -6.50521303e-19  5.58659218e-03  4.19553073e+00  1.35865922e+01\n",
            "   1.33407821e+01  5.48044693e+00  3.18435754e-01  1.67597765e-02]\n",
            " [ 0.00000000e+00  2.00819672e-01  6.55737705e+00  1.25614754e+01\n",
            "   1.17950820e+01  5.55327869e+00  5.98360656e-01  8.19672131e-03\n",
            "   4.09836066e-03  2.63524590e+00  1.39959016e+01  9.10655738e+00\n",
            "   9.40163934e+00  1.03524590e+01  1.21311475e+00  4.09836066e-03\n",
            "  -6.07153217e-18  4.33196721e+00  1.27991803e+01  4.36885246e+00\n",
            "   6.86475410e+00  1.11721311e+01  1.88524590e+00  1.24900090e-16\n",
            "  -2.16840434e-18  2.30737705e+00  1.04672131e+01  1.19262295e+01\n",
            "   1.32336066e+01  1.20860656e+01  2.49180328e+00 -4.33680869e-18\n",
            "   0.00000000e+00  3.07377049e-01  3.22131148e+00  6.22950820e+00\n",
            "   6.68032787e+00  1.12090164e+01  4.30737705e+00  0.00000000e+00\n",
            "  -1.73472348e-17  2.21311475e-01  2.37295082e+00  1.93852459e+00\n",
            "   1.64344262e+00  1.08606557e+01  6.44672131e+00  1.63934426e-02\n",
            "  -1.47451495e-17  7.54098361e-01  8.11475410e+00  5.51639344e+00\n",
            "   4.65983607e+00  1.22172131e+01  6.02049180e+00  1.14754098e-01\n",
            "  -1.08420217e-18  1.72131148e-01  6.47950820e+00  1.35245902e+01\n",
            "   1.45163934e+01  9.98360656e+00  2.32377049e+00  1.14754098e-01]\n",
            " [ 0.00000000e+00  9.42857143e-01  1.01885714e+01  1.44400000e+01\n",
            "   7.77142857e+00  9.82857143e-01 -1.33226763e-15 -2.77555756e-17\n",
            "   2.28571429e-02  5.24000000e+00  1.37200000e+01  1.26228571e+01\n",
            "   1.16914286e+01  3.23428571e+00  1.71428571e-02  6.93889390e-17\n",
            "   1.14285714e-02  4.56000000e+00  8.11428571e+00  6.13714286e+00\n",
            "   1.21600000e+01  3.56000000e+00  1.71428571e-02  1.04083409e-16\n",
            "  -1.08420217e-18  9.65714286e-01  2.81714286e+00  7.00571429e+00\n",
            "   1.25371429e+01  2.56000000e+00  4.00000000e-02 -2.16840434e-18\n",
            "   0.00000000e+00  4.57142857e-02  1.57142857e+00  9.89714286e+00\n",
            "   1.06971429e+01  1.45142857e+00 -4.44089210e-15  0.00000000e+00\n",
            "  -8.67361738e-18  2.51428571e-01  4.45714286e+00  1.12457143e+01\n",
            "   7.74285714e+00  2.37142857e+00  8.45714286e-01  1.14285714e-02\n",
            "  -6.07153217e-18  1.19428571e+00  1.09942857e+01  1.37314286e+01\n",
            "   1.19257143e+01  1.11600000e+01  7.66857143e+00  1.10285714e+00\n",
            "  -5.42101086e-19  9.31428571e-01  1.03885714e+01  1.44685714e+01\n",
            "   1.35028571e+01  1.23542857e+01  8.96571429e+00  2.95428571e+00]\n",
            " [ 0.00000000e+00  2.22044605e-16  1.53061224e-01  2.57142857e+00\n",
            "   1.11530612e+01  1.31836735e+01  5.31632653e+00  7.44897959e-01\n",
            "   2.60208521e-18  9.18367347e-02  2.80612245e+00  9.80612245e+00\n",
            "   1.33775510e+01  1.28367347e+01  6.46938776e+00  7.55102041e-01\n",
            "   1.30104261e-18  1.64285714e+00  9.33673469e+00  1.13367347e+01\n",
            "   1.05714286e+01  1.26428571e+01  4.97959184e+00  2.55102041e-01\n",
            "  -2.16840434e-19  3.53061224e+00  1.19693878e+01  1.08367347e+01\n",
            "   1.23469388e+01  1.35714286e+01  2.82653061e+00 -4.33680869e-19\n",
            "   0.00000000e+00  1.66326531e+00  6.34693878e+00  7.07142857e+00\n",
            "   1.18367347e+01  1.24591837e+01  1.51020408e+00  0.00000000e+00\n",
            "  -1.73472348e-18  6.22448980e-01  1.71428571e+00  3.55102041e+00\n",
            "   1.17040816e+01  1.14285714e+01  9.38775510e-01  1.73472348e-17\n",
            "   6.07153217e-18  3.06122449e-02  2.95918367e-01  3.64285714e+00\n",
            "   1.26428571e+01  1.06938776e+01  1.50000000e+00  1.38777878e-16\n",
            "  -1.08420217e-19  3.33066907e-16  3.55271368e-15  2.95918367e+00\n",
            "   1.12551020e+01  9.70408163e+00  1.55102041e+00 -5.55111512e-17]\n",
            " [ 0.00000000e+00  2.22044605e-16  1.15934066e+00  1.12252747e+01\n",
            "   9.53296703e+00  1.41758242e+00  5.49450549e-03 -5.55111512e-17\n",
            "  -2.60208521e-18  6.04395604e-02  7.18131868e+00  1.45604396e+01\n",
            "   6.19230769e+00  8.29670330e-01  2.74725275e-02  2.77555756e-17\n",
            "  -1.30104261e-18  7.69230769e-01  1.24560440e+01  9.47252747e+00\n",
            "   9.34065934e-01  1.09890110e-01  0.00000000e+00  9.71445147e-17\n",
            "  -1.30104261e-18  2.29670330e+00  1.36208791e+01  8.09340659e+00\n",
            "   3.87362637e+00  1.92857143e+00  1.04395604e-01 -2.60208521e-18\n",
            "   0.00000000e+00  3.52747253e+00  1.46758242e+01  1.29175824e+01\n",
            "   1.22527473e+01  1.02857143e+01  2.71978022e+00  0.00000000e+00\n",
            "  -1.04083409e-17  1.86813187e+00  1.45164835e+01  1.06538462e+01\n",
            "   5.57692308e+00  1.01923077e+01  9.13186813e+00  2.30769231e-01\n",
            "  -5.20417043e-18  1.75824176e-01  1.02857143e+01  1.26263736e+01\n",
            "   5.41758242e+00  1.13241758e+01  1.08956044e+01  6.26373626e-01\n",
            "  -6.50521303e-19  5.55111512e-16  1.44505495e+00  1.07362637e+01\n",
            "   1.50989011e+01  1.31318681e+01  4.62087912e+00  1.70329670e-01]\n",
            " [ 0.00000000e+00  1.12107623e-01  3.91479821e+00  1.17668161e+01\n",
            "   1.24484305e+01  5.38565022e+00  4.34977578e-01 -1.38777878e-16\n",
            "   8.96860987e-03  8.29596413e-01  8.08520179e+00  1.35470852e+01\n",
            "   1.26816143e+01  9.82062780e+00  1.56502242e+00  1.66533454e-16\n",
            "  -3.90312782e-18  1.18834081e+00  8.19730942e+00  1.19686099e+01\n",
            "   1.23408072e+01  9.37668161e+00  1.02242152e+00  1.24900090e-16\n",
            "  -1.95156391e-18  9.77578475e-01  7.20627803e+00  1.40941704e+01\n",
            "   1.41748879e+01  5.00448430e+00  2.06278027e-01 -3.90312782e-18\n",
            "   0.00000000e+00  7.89237668e-01  8.08071749e+00  1.48161435e+01\n",
            "   1.29013453e+01  2.25112108e+00  6.27802691e-02  0.00000000e+00\n",
            "  -1.56125113e-17  1.23318386e+00  1.05291480e+01  1.19865471e+01\n",
            "   1.21748879e+01  4.05381166e+00  2.69058296e-01 -4.51028104e-17\n",
            "   1.34529148e-02  8.78923767e-01  9.58744395e+00  1.14932735e+01\n",
            "   1.22152466e+01  5.66816143e+00  6.81614350e-01  4.48430493e-03\n",
            "   4.48430493e-03  1.12107623e-01  4.11659193e+00  1.19013453e+01\n",
            "   1.27533632e+01  4.97309417e+00  8.56502242e-01  8.96860987e-03]\n",
            " [ 0.00000000e+00  2.22044605e-16  2.60355030e-01  6.85798817e+00\n",
            "   1.20177515e+01  2.08875740e+00  1.47928994e-01  5.32544379e-02\n",
            "   8.67361738e-19  1.18343195e-02  3.10059172e+00  1.35621302e+01\n",
            "   8.72781065e+00  1.56804734e+00  9.52662722e-01  3.13609467e-01\n",
            "   4.33680869e-19  5.97633136e-01  1.03905325e+01  1.16804734e+01\n",
            "   4.46153846e+00  5.13609467e+00  3.84615385e+00  3.49112426e-01\n",
            "   5.91715976e-03  4.59171598e+00  1.45976331e+01  6.07100592e+00\n",
            "   6.79289941e+00  1.07810651e+01  6.25443787e+00  1.77514793e-02\n",
            "   0.00000000e+00  8.80473373e+00  1.48284024e+01  9.40236686e+00\n",
            "   1.27692308e+01  1.44674556e+01  5.52662722e+00  0.00000000e+00\n",
            "   9.46745562e-02  6.47928994e+00  1.15976331e+01  1.22189349e+01\n",
            "   1.47751479e+01  1.09822485e+01  1.62130178e+00 -6.93889390e-18\n",
            "   5.91715976e-02  1.11242604e+00  2.91124260e+00  7.44970414e+00\n",
            "   1.40295858e+01  4.43195266e+00  1.77514793e-02  1.11022302e-16\n",
            "  -4.33680869e-19  2.36686391e-02  3.13609467e-01  7.64497041e+00\n",
            "   1.24023669e+01  1.98816568e+00 -1.77635684e-15 -2.77555756e-16]\n",
            " [ 0.00000000e+00  1.10810811e+00  1.00135135e+01  1.33986486e+01\n",
            "   1.41891892e+01  1.26081081e+01  4.40540541e+00  4.05405405e-02\n",
            "   6.75675676e-03  4.56081081e+00  1.49391892e+01  1.26418919e+01\n",
            "   8.72297297e+00  7.00000000e+00  2.47972973e+00  3.37837838e-02\n",
            "   1.35135135e-02  6.06756757e+00  1.45270270e+01  5.99324324e+00\n",
            "   1.97972973e+00  9.39189189e-01  1.75675676e-01  8.32667268e-17\n",
            "   6.75675676e-03  5.31756757e+00  1.43310811e+01  1.23648649e+01\n",
            "   7.81081081e+00  2.20945946e+00  1.48648649e-01 -8.67361738e-19\n",
            "   0.00000000e+00  1.95945946e+00  8.18918919e+00  1.00608108e+01\n",
            "   1.03310811e+01  5.54729730e+00  6.41891892e-01  0.00000000e+00\n",
            "  -3.46944695e-18  3.04054054e-01  1.40540541e+00  4.88513514e+00\n",
            "   9.85135135e+00  7.06081081e+00  7.83783784e-01  1.38777878e-17\n",
            "   4.33680869e-18  8.10810811e-01  5.09459459e+00  9.54054054e+00\n",
            "   1.21418919e+01  5.27027027e+00  4.45945946e-01  2.22044605e-16\n",
            "  -2.16840434e-19  1.06081081e+00  1.08918919e+01  1.45540541e+01\n",
            "   7.80405405e+00  1.06756757e+00  2.02702703e-02 -2.77555756e-16]\n",
            " [ 0.00000000e+00  1.66666667e-01  5.15151515e+00  1.33080808e+01\n",
            "   1.39444444e+01  1.05202020e+01  4.44444444e+00  7.22222222e-01\n",
            "  -3.46944695e-18  1.18181818e+00  1.09646465e+01  1.13181818e+01\n",
            "   1.02121212e+01  1.25555556e+01  4.93434343e+00  2.97979798e-01\n",
            "  -1.73472348e-18  1.24747475e+00  5.60606061e+00  2.29292929e+00\n",
            "   7.29292929e+00  1.18737374e+01  2.84848485e+00  3.03030303e-02\n",
            "  -1.73472348e-18  1.02020202e+00  5.07070707e+00  6.75757576e+00\n",
            "   1.26060606e+01  1.19090909e+01  4.59595960e+00  5.05050505e-03\n",
            "   0.00000000e+00  1.50505051e+00  8.71717172e+00  1.33737374e+01\n",
            "   1.48030303e+01  1.04595960e+01  4.01515152e+00  0.00000000e+00\n",
            "  -1.38777878e-17  1.11111111e+00  5.22727273e+00  1.20151515e+01\n",
            "   1.09343434e+01  3.43434343e+00  5.55555556e-01 -3.12250226e-17\n",
            "  -8.67361738e-18  1.06060606e-01  3.15656566e+00  1.27525253e+01\n",
            "   5.85353535e+00  2.82828283e-01  6.21724894e-15 -5.55111512e-17\n",
            "  -8.67361738e-19  1.31313131e-01  6.46464646e+00  1.21969697e+01\n",
            "   2.18686869e+00  1.86868687e-01  1.01010101e-02 -4.44089210e-16]\n",
            " [ 0.00000000e+00  5.85635359e-01  8.66298343e+00  1.45248619e+01\n",
            "   1.40331492e+01  7.09392265e+00  6.62983425e-01 -5.55111512e-17\n",
            "   1.10497238e-02  4.13812155e+00  1.26574586e+01  9.20994475e+00\n",
            "   1.12486188e+01  1.20386740e+01  1.95580110e+00  1.10497238e-02\n",
            "   5.52486188e-03  1.88397790e+00  3.77348066e+00  3.68508287e+00\n",
            "   1.17458564e+01  9.95580110e+00  9.00552486e-01  9.71445147e-17\n",
            "  -1.30104261e-18  6.07734807e-02  9.72375691e-01  8.17679558e+00\n",
            "   1.38066298e+01  6.87292818e+00  3.31491713e-01 -2.60208521e-18\n",
            "   0.00000000e+00  6.07734807e-02  6.68508287e-01  4.53591160e+00\n",
            "   1.17071823e+01  1.22375691e+01  2.29834254e+00  0.00000000e+00\n",
            "  -1.04083409e-17  4.58563536e-01  1.48066298e+00  6.85082873e-01\n",
            "   4.23756906e+00  1.23977901e+01  6.24309392e+00  5.52486188e-03\n",
            "  -4.33680869e-18  9.33701657e-01  7.34254144e+00  6.60773481e+00\n",
            "   8.66298343e+00  1.36298343e+01  6.01657459e+00  1.71270718e-01\n",
            "  -6.50521303e-19  4.64088398e-01  9.45303867e+00  1.49226519e+01\n",
            "   1.40828729e+01  8.81215470e+00  1.84530387e+00  4.08839779e-01]]\n"
          ]
        }
      ]
    },
    {
      "cell_type": "markdown",
      "source": [
        "*   2.2. Compare the obtained result with with other classification algorithms such as **Randomforest**, **kNN**, and **Naïve Bayes** in terms of accuracy, precision, recall, f1 using cross validation. \n"
      ],
      "metadata": {
        "id": "pnoVB8J4vV36"
      }
    },
    {
      "cell_type": "code",
      "source": [
        "# code\n",
        "kmeans = KMeans(n_clusters=10, random_state=42)\n",
        "rf = RandomForestClassifier(n_estimators=100, random_state=42)\n",
        "knn = KNeighborsClassifier(n_neighbors=5)\n",
        "nb = GaussianNB()\n",
        "scoring = ['accuracy', 'precision_macro', 'recall_macro', 'f1_macro']\n",
        "\n",
        "results_kmeans = cross_validate(kmeans, X, y, cv=5, scoring=scoring)\n",
        "results_rf = cross_validate(rf, X, y, cv=5, scoring=scoring)\n",
        "results_knn = cross_validate(knn, X, y, cv=5, scoring=scoring)\n",
        "results_nb = cross_validate(nb, X, y, cv=5, scoring=scoring)\n",
        "\n",
        "mean_scores_kmeans = {k: v.mean() for k, v in results_kmeans.items()}\n",
        "mean_scores_rf = {k: v.mean() for k, v in results_rf.items()}\n",
        "mean_scores_knn = {k: v.mean() for k, v in results_knn.items()}\n",
        "mean_scores_nb = {k: v.mean() for k, v in results_nb.items()}\n",
        "\n",
        "t = PrettyTable([\"algorithms\",\"K-Means\",\"Random Forest\",\"KNN\",\"Naive Bayes\"])\n",
        "t.add_row([\"Accuracy\",mean_scores_kmeans['test_accuracy'],mean_scores_rf['test_accuracy'],mean_scores_knn['test_accuracy'],mean_scores_nb['test_accuracy']])\n",
        "t.add_row([\"Precision\",mean_scores_kmeans['test_precision_macro'],mean_scores_rf['test_precision_macro'],mean_scores_knn['test_precision_macro'],mean_scores_nb['test_precision_macro']])\n",
        "t.add_row([\"Recall\",mean_scores_kmeans['test_recall_macro'],mean_scores_rf['test_recall_macro'],mean_scores_knn['test_recall_macro'],mean_scores_nb['test_recall_macro']])\n",
        "t.add_row([\"F1 Score\",mean_scores_kmeans['test_f1_macro'],mean_scores_rf['test_f1_macro'],mean_scores_knn['test_f1_macro'],mean_scores_nb['test_f1_macro']])\n",
        "\n",
        "print(t)"
      ],
      "metadata": {
        "id": "-ZTSvsJdvYqI",
        "colab": {
          "base_uri": "https://localhost:8080/"
        },
        "outputId": "5495cd86-006e-4e78-f632-e6c717aeb8ed"
      },
      "execution_count": 10,
      "outputs": [
        {
          "output_type": "stream",
          "name": "stderr",
          "text": [
            "/usr/local/lib/python3.9/dist-packages/sklearn/cluster/_kmeans.py:870: FutureWarning: The default value of `n_init` will change from 10 to 'auto' in 1.4. Set the value of `n_init` explicitly to suppress the warning\n",
            "  warnings.warn(\n",
            "/usr/local/lib/python3.9/dist-packages/sklearn/cluster/_kmeans.py:870: FutureWarning: The default value of `n_init` will change from 10 to 'auto' in 1.4. Set the value of `n_init` explicitly to suppress the warning\n",
            "  warnings.warn(\n",
            "/usr/local/lib/python3.9/dist-packages/sklearn/cluster/_kmeans.py:870: FutureWarning: The default value of `n_init` will change from 10 to 'auto' in 1.4. Set the value of `n_init` explicitly to suppress the warning\n",
            "  warnings.warn(\n",
            "/usr/local/lib/python3.9/dist-packages/sklearn/cluster/_kmeans.py:870: FutureWarning: The default value of `n_init` will change from 10 to 'auto' in 1.4. Set the value of `n_init` explicitly to suppress the warning\n",
            "  warnings.warn(\n",
            "/usr/local/lib/python3.9/dist-packages/sklearn/cluster/_kmeans.py:870: FutureWarning: The default value of `n_init` will change from 10 to 'auto' in 1.4. Set the value of `n_init` explicitly to suppress the warning\n",
            "  warnings.warn(\n"
          ]
        },
        {
          "output_type": "stream",
          "name": "stdout",
          "text": [
            "+------------+---------------------+--------------------+--------------------+--------------------+\n",
            "| algorithms |       K-Means       |   Random Forest    |        KNN         |    Naive Bayes     |\n",
            "+------------+---------------------+--------------------+--------------------+--------------------+\n",
            "|  Accuracy  | 0.12959300526152892 | 0.9393639740018569 | 0.9627282575054161 | 0.8069281956050759 |\n",
            "| Precision  | 0.12724111132077165 | 0.9436579468023348 | 0.9647105099179404 | 0.834201176196115  |\n",
            "|   Recall   | 0.12911178039041818 | 0.939312438488909  | 0.9625573220279102 | 0.8070172104877986 |\n",
            "|  F1 Score  | 0.12498077116640163 | 0.9389828442792153 | 0.9626496370410162 | 0.8053770473028571 |\n",
            "+------------+---------------------+--------------------+--------------------+--------------------+\n"
          ]
        }
      ]
    },
    {
      "cell_type": "markdown",
      "source": [
        "*   2.3. From the obtained results, **which approach is better** for this problem: Supervised learning or Unsupervised learning?"
      ],
      "metadata": {
        "id": "uyey-ndXvZlb"
      }
    },
    {
      "cell_type": "code",
      "source": [
        "#code\n",
        "print('Supervised learning tốt hơn vì MNIST là một vấn đề được nghiên cứu kỹ lưỡng và tương đối đơn giản, và việc học không giám sát có thể rõ ràng hơn trong các bộ dữ liệu phức tạp hơn hoặc ít được hiểu hơn.')\n",
        "\n",
        "mnist = datasets.load_digits()\n",
        "X = mnist['data']\n",
        "y = mnist['target']\n",
        "scaler = StandardScaler()\n",
        "X_norm = scaler.fit_transform(X)\n",
        "agg_clustering = AgglomerativeClustering(n_clusters=10)\n",
        "y_pred = agg_clustering.fit_predict(X_norm)\n",
        "print(y_pred[:20])\n"
      ],
      "metadata": {
        "id": "Qzh_D-rgvbv9",
        "colab": {
          "base_uri": "https://localhost:8080/"
        },
        "outputId": "733efad4-bb82-4339-de15-80b1587be1f3"
      },
      "execution_count": 15,
      "outputs": [
        {
          "output_type": "stream",
          "name": "stdout",
          "text": [
            "Supervised learning tốt hơn vì MNIST là một vấn đề được nghiên cứu kỹ lưỡng và tương đối đơn giản, và việc học không giám sát có thể rõ ràng hơn trong các bộ dữ liệu phức tạp hơn hoặc ít được hiểu hơn.\n",
            "[5 1 1 4 8 4 6 9 1 4 5 1 3 4 8 0 6 9 1 4]\n"
          ]
        }
      ]
    },
    {
      "cell_type": "markdown",
      "source": [
        "2.4. Apply **AgglomerativeClustering** algorithm to mnist dataset using the number of clusters is 10"
      ],
      "metadata": {
        "id": "ol1U_T_NvcqV"
      }
    },
    {
      "cell_type": "markdown",
      "source": [
        "#Task 3. \n",
        "For given dataset (shopping-data.csv) including 5 attributes: **CustomerID**, **Genre**, **Age**, **Annual Income**, and **Spending Score**.\n",
        "*   3.1. Using the **scipy library** to create the dendrograms for the given dataset (remember drop categorical attributes: **CustomerID**, **Genre**)\n",
        "\n",
        "\n",
        "\n"
      ],
      "metadata": {
        "id": "b52OPWPD2afi"
      }
    },
    {
      "cell_type": "code",
      "source": [
        "#code\n",
        "\n",
        "shopping_data = pd.read_csv(\"shopping-data.csv\")\n",
        "shopping_data = shopping_data.drop([\"CustomerID\", \"Genre\"], axis=1)\n",
        "Z = linkage(shopping_data, 'ward')\n",
        "plt.figure(figsize=(12, 6))\n",
        "plt.title(\"Dendrogram\")\n",
        "plt.xlabel(\"Data points\")\n",
        "plt.ylabel(\"Distance\")\n",
        "dendrogram(Z, leaf_rotation=90., leaf_font_size=8.)\n",
        "plt.show()"
      ],
      "metadata": {
        "id": "YYY2dLtH3P8H",
        "colab": {
          "base_uri": "https://localhost:8080/",
          "height": 571
        },
        "outputId": "45cd77ab-7a3d-4d4e-bd68-6d6eb5b14484"
      },
      "execution_count": 18,
      "outputs": [
        {
          "output_type": "display_data",
          "data": {
            "text/plain": [
              "<Figure size 1200x600 with 1 Axes>"
            ],
            "image/png": "[encoded data removed]"
          },
          "metadata": {}
        }
      ]
    },
    {
      "cell_type": "markdown",
      "source": [
        "*   3.2. Apply K-Means to the preprocessed dataset with k belongs to [2,10]. Then compute SSE values and plot them to find the best value of k."
      ],
      "metadata": {
        "id": "eHlh_dWUyEMr"
      }
    },
    {
      "cell_type": "code",
      "source": [
        "#code\n",
        "\n",
        "\n",
        "shopping_data = pd.read_csv(\"shopping-data.csv\")\n",
        "shopping_data = shopping_data.drop([\"CustomerID\", \"Genre\"], axis=1)\n",
        "\n",
        "shopping_data_norm = (shopping_data - shopping_data.mean()) / shopping_data.std()\n",
        "\n",
        "k_values = list(range(2, 11))\n",
        "sse_values = []\n",
        "for k in k_values:\n",
        "    kmeans = KMeans(n_clusters=k, random_state=42)\n",
        "    kmeans.fit(shopping_data_norm)\n",
        "    sse_values.append(kmeans.inertia_)\n",
        "\n",
        "plt.plot(k_values, sse_values, 'bx-')\n",
        "plt.xlabel('k')\n",
        "plt.ylabel('SSE')\n",
        "plt.title('Elbow Method For Optimal k')\n",
        "plt.show()"
      ],
      "metadata": {
        "id": "8vx3mfIidu4P",
        "colab": {
          "base_uri": "https://localhost:8080/",
          "height": 804
        },
        "outputId": "45510e1c-6730-4cba-b97d-0da3083d46e1"
      },
      "execution_count": 20,
      "outputs": [
        {
          "output_type": "stream",
          "name": "stderr",
          "text": [
            "/usr/local/lib/python3.9/dist-packages/sklearn/cluster/_kmeans.py:870: FutureWarning: The default value of `n_init` will change from 10 to 'auto' in 1.4. Set the value of `n_init` explicitly to suppress the warning\n",
            "  warnings.warn(\n",
            "/usr/local/lib/python3.9/dist-packages/sklearn/cluster/_kmeans.py:870: FutureWarning: The default value of `n_init` will change from 10 to 'auto' in 1.4. Set the value of `n_init` explicitly to suppress the warning\n",
            "  warnings.warn(\n",
            "/usr/local/lib/python3.9/dist-packages/sklearn/cluster/_kmeans.py:870: FutureWarning: The default value of `n_init` will change from 10 to 'auto' in 1.4. Set the value of `n_init` explicitly to suppress the warning\n",
            "  warnings.warn(\n",
            "/usr/local/lib/python3.9/dist-packages/sklearn/cluster/_kmeans.py:870: FutureWarning: The default value of `n_init` will change from 10 to 'auto' in 1.4. Set the value of `n_init` explicitly to suppress the warning\n",
            "  warnings.warn(\n",
            "/usr/local/lib/python3.9/dist-packages/sklearn/cluster/_kmeans.py:870: FutureWarning: The default value of `n_init` will change from 10 to 'auto' in 1.4. Set the value of `n_init` explicitly to suppress the warning\n",
            "  warnings.warn(\n",
            "/usr/local/lib/python3.9/dist-packages/sklearn/cluster/_kmeans.py:870: FutureWarning: The default value of `n_init` will change from 10 to 'auto' in 1.4. Set the value of `n_init` explicitly to suppress the warning\n",
            "  warnings.warn(\n",
            "/usr/local/lib/python3.9/dist-packages/sklearn/cluster/_kmeans.py:870: FutureWarning: The default value of `n_init` will change from 10 to 'auto' in 1.4. Set the value of `n_init` explicitly to suppress the warning\n",
            "  warnings.warn(\n",
            "/usr/local/lib/python3.9/dist-packages/sklearn/cluster/_kmeans.py:870: FutureWarning: The default value of `n_init` will change from 10 to 'auto' in 1.4. Set the value of `n_init` explicitly to suppress the warning\n",
            "  warnings.warn(\n",
            "/usr/local/lib/python3.9/dist-packages/sklearn/cluster/_kmeans.py:870: FutureWarning: The default value of `n_init` will change from 10 to 'auto' in 1.4. Set the value of `n_init` explicitly to suppress the warning\n",
            "  warnings.warn(\n"
          ]
        },
        {
          "output_type": "display_data",
          "data": {
            "text/plain": [
              "<Figure size 640x480 with 1 Axes>"
            ],
            "image/png": "[encoded data removed]"
          },
          "metadata": {}
        }
      ]
    },
    {
      "cell_type": "markdown",
      "source": [
        "*   3.2. From the obtained dengrograms, choose an appropriate number of clusters and apply **AgglomerativeClustering** algorithm to the given dataset"
      ],
      "metadata": {
        "id": "RJpsTIiyv-1h"
      }
    },
    {
      "cell_type": "code",
      "source": [
        "#code\n",
        "shopping_data = pd.read_csv(\"shopping-data.csv\")\n",
        "\n",
        "shopping_data = shopping_data.drop([\"CustomerID\", \"Genre\"], axis=1)\n",
        "agg_clustering = AgglomerativeClustering(n_clusters=4, linkage=\"ward\")\n",
        "cluster_labels = agg_clustering.fit_predict(shopping_data)\n",
        "print(\"Predicted Cluster Labels:\\n\", cluster_labels)"
      ],
      "metadata": {
        "id": "5ZE7A0Au1Pg0",
        "colab": {
          "base_uri": "https://localhost:8080/"
        },
        "outputId": "b8bdb44f-72fc-4cc8-88af-3b8bf74af22e"
      },
      "execution_count": 21,
      "outputs": [
        {
          "output_type": "stream",
          "name": "stdout",
          "text": [
            "Predicted Cluster Labels:\n",
            " [0 3 0 3 0 3 0 3 0 3 0 3 0 3 0 3 0 3 0 3 0 3 0 3 0 3 0 0 0 3 0 3 0 3 0 3 0\n",
            " 3 0 3 0 3 0 0 0 0 0 0 0 0 0 0 0 0 0 0 0 0 0 0 0 0 0 0 0 0 0 0 0 0 0 0 0 0\n",
            " 0 0 0 0 0 0 0 0 0 0 0 0 0 0 0 0 0 0 0 0 0 0 0 0 0 0 0 0 0 0 0 0 0 0 0 0 0\n",
            " 0 0 0 0 0 0 0 0 0 0 0 0 2 0 2 1 2 1 2 1 2 0 2 1 2 1 2 1 2 1 2 0 2 1 2 1 2\n",
            " 1 2 1 2 1 2 1 2 1 2 1 2 1 2 1 2 1 2 1 2 1 2 1 2 1 2 1 2 1 2 1 2 1 2 1 2 1\n",
            " 2 1 2 1 2 1 2 1 2 1 2 1 2 1 2]\n"
          ]
        }
      ]
    },
    {
      "cell_type": "markdown",
      "source": [
        "#Finally,\n",
        "Save a copy in your Github. Remember renaming the notebook."
      ],
      "metadata": {
        "id": "Ok7RGkea_b7n"
      }
    }
  ]
}