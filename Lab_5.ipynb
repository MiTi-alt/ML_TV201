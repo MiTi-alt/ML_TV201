{
  "nbformat": 4,
  "nbformat_minor": 0,
  "metadata": {
    "colab": {
      "provenance": [],
      "include_colab_link": true
    },
    "kernelspec": {
      "name": "python3",
      "display_name": "Python 3"
    },
    "language_info": {
      "name": "python"
    }
  },
  "cells": [
    {
      "cell_type": "markdown",
      "metadata": {
        "id": "view-in-github",
        "colab_type": "text"
      },
      "source": [
        "<a href=\"https://colab.research.google.com/github/MiTi-alt/ML_TV201/blob/main/Lab_5.ipynb\" target=\"_parent\"><img src=\"https://colab.research.google.com/assets/colab-badge.svg\" alt=\"Open In Colab\"/></a>"
      ]
    },
    {
      "cell_type": "markdown",
      "source": [
        "# This lab is to deal with **SVM** to classification tasks and compare its performance with other competitive algorithms. In general, **SVM** is one of the most popular and widely used supervised machine learning algorithms.\n",
        "\n",
        "*   **Deadline: 23:59, 17/03/2023**\n",
        "\n"
      ],
      "metadata": {
        "id": "LMzehe0sy5wr"
      }
    },
    {
      "cell_type": "markdown",
      "source": [
        "# Import libraries"
      ],
      "metadata": {
        "id": "H4nJmxp9zGX4"
      }
    },
    {
      "cell_type": "code",
      "execution_count": 3,
      "metadata": {
        "id": "DoVWQ8AEyc-C",
        "colab": {
          "base_uri": "https://localhost:8080/"
        },
        "outputId": "eb114a4f-0272-4af2-bc2e-0f9aa15151bc"
      },
      "outputs": [
        {
          "output_type": "stream",
          "name": "stdout",
          "text": [
            "Drive already mounted at /content/gdrive; to attempt to forcibly remount, call drive.mount(\"/content/gdrive\", force_remount=True).\n",
            "/content/gdrive/MyDrive/ML_TH_2023\n"
          ]
        }
      ],
      "source": [
        "# code\n",
        "from sklearn import datasets\n",
        "import pandas as pd\n",
        "from sklearn.datasets import load_iris\n",
        "from sklearn.model_selection import train_test_split\n",
        "from sklearn import svm\n",
        "from sklearn.linear_model import LogisticRegression\n",
        "from sklearn.tree import DecisionTreeClassifier\n",
        "from sklearn.neighbors import KNeighborsClassifier\n",
        "from sklearn.metrics import accuracy_score, precision_score, recall_score, f1_score\n",
        "from google.colab import drive\n",
        "from prettytable import PrettyTable\n",
        "drive.mount('/content/gdrive')\n",
        "%cd '/content/gdrive/MyDrive/ML_TH_2023'\n"
      ]
    },
    {
      "cell_type": "markdown",
      "source": [
        "#Task 1. \n",
        "For breast cancer dataset (https://tinyurl.com/3vme8hr3) which could be loaded from datasets in sklearn as follows:\n",
        "\n",
        "```\n",
        "#Import scikit-learn dataset library\n",
        "from sklearn import datasets\n",
        "\n",
        "#Load dataset\n",
        "cancer = datasets.load_breast_cancer()\n",
        "```\n",
        "\n",
        "*   1.1.\tApply SVM algorithm to above dataset using linear kernel.\n",
        "*   1.2.\tCompare the obtained results with other competitive algorithms (Logistic Regression, Decision Tree, kNN) based on metrics: accuracy, precision, recall, f1 measures.\n",
        "\n"
      ],
      "metadata": {
        "id": "kNv07ARGzOUm"
      }
    },
    {
      "cell_type": "code",
      "source": [
        "cancer = datasets.load_breast_cancer()\n",
        "X = cancer.data\n",
        "y = cancer.target\n",
        "X_train, X_test, y_train, y_test = train_test_split(X, y, test_size=0.2, random_state=3)\n",
        "clf = svm.SVC(kernel='linear')\n",
        "clf.fit(X_train, y_train)\n",
        "y_pred = clf.predict(X_test)\n",
        "lg = LogisticRegression(random_state=0)\n",
        "lg.fit(X_train, y_train)\n",
        "lg_pred = lg.predict(X_test)\n",
        "dtc = DecisionTreeClassifier(random_state=0)\n",
        "dtc.fit(X_train, y_train)\n",
        "dtc_pred = dtc.predict(X_test)\n",
        "knn = KNeighborsClassifier()\n",
        "knn.fit(X_train, y_train)\n",
        "knn_pred = knn.predict(X_test)\n",
        "\n",
        "clf_acc = accuracy_score(y_test, y_pred)\n",
        "clf_prec = precision_score(y_test, y_pred)\n",
        "clf_rec = recall_score(y_test, y_pred)\n",
        "clf_f1 = f1_score(y_test, y_pred)\n",
        "\n",
        "lg_acc = accuracy_score(y_test, lg_pred)\n",
        "lg_prec = precision_score(y_test, lg_pred)\n",
        "lg_rec = recall_score(y_test, lg_pred)\n",
        "lg_f1 = f1_score(y_test, lg_pred)\n",
        "\n",
        "dtc_acc = accuracy_score(y_test, dtc_pred)\n",
        "dtc_prec = precision_score(y_test, dtc_pred)\n",
        "dtc_rec = recall_score(y_test, dtc_pred)\n",
        "dtc_f1 = f1_score(y_test, dtc_pred)\n",
        "\n",
        "knn_acc = accuracy_score(y_test, knn_pred)\n",
        "knn_prec = precision_score(y_test, knn_pred)\n",
        "knn_rec = recall_score(y_test, knn_pred)\n",
        "knn_f1 = f1_score(y_test, knn_pred)\n",
        "\n",
        "t = PrettyTable([\"algorithms\",\"SVM\",\"Logistic Regression\",\"Decision Tree\",\"kNN\"])\n",
        "t.add_row([\"Accuracy\",clf_acc,lg_acc,dtc_acc,knn_acc])\n",
        "t.add_row([\"Precision\",clf_prec,lg_prec,dtc_prec,knn_prec])\n",
        "t.add_row([\"Recall\",clf_rec,lg_rec,dtc_rec,knn_rec])\n",
        "t.add_row([\"F1 Score:\",clf_f1,lg_f1,dtc_f1,knn_f1])\n",
        "print(t)\n"
      ],
      "metadata": {
        "id": "sOsg77IBzEyo",
        "colab": {
          "base_uri": "https://localhost:8080/"
        },
        "outputId": "9664be88-e0ca-47af-bde2-dbc359ef261b"
      },
      "execution_count": 55,
      "outputs": [
        {
          "output_type": "stream",
          "name": "stdout",
          "text": [
            "+------------+--------------------+---------------------+--------------------+--------------------+\n",
            "| algorithms |        SVM         | Logistic Regression |   Decision Tree    |        kNN         |\n",
            "+------------+--------------------+---------------------+--------------------+--------------------+\n",
            "|  Accuracy  | 0.9298245614035088 |  0.9122807017543859 | 0.9035087719298246 | 0.9210526315789473 |\n",
            "| Precision  | 0.9459459459459459 |  0.9210526315789473 | 0.9436619718309859 | 0.9333333333333333 |\n",
            "|   Recall   | 0.9459459459459459 |  0.9459459459459459 | 0.9054054054054054 | 0.9459459459459459 |\n",
            "| F1 Score:  | 0.9459459459459459 |  0.9333333333333332 | 0.9241379310344827 | 0.9395973154362416 |\n",
            "+------------+--------------------+---------------------+--------------------+--------------------+\n"
          ]
        },
        {
          "output_type": "stream",
          "name": "stderr",
          "text": [
            "/usr/local/lib/python3.9/dist-packages/sklearn/linear_model/_logistic.py:458: ConvergenceWarning: lbfgs failed to converge (status=1):\n",
            "STOP: TOTAL NO. of ITERATIONS REACHED LIMIT.\n",
            "\n",
            "Increase the number of iterations (max_iter) or scale the data as shown in:\n",
            "    https://scikit-learn.org/stable/modules/preprocessing.html\n",
            "Please also refer to the documentation for alternative solver options:\n",
            "    https://scikit-learn.org/stable/modules/linear_model.html#logistic-regression\n",
            "  n_iter_i = _check_optimize_result(\n"
          ]
        }
      ]
    },
    {
      "cell_type": "markdown",
      "source": [
        "#Task 2. \n",
        "\n",
        "*   1.1.\tPerform SVM algorithm to **Iris dataset** using **linear kernel**.\n",
        "*   1.2.\tCompare the obtained results in 1.1 with SVM using other kernels (**Polynomial Kernel, Gaussian Kernel, Sigmoid Kernel, Radial Basis Function Kernel**). Some metrics could be used: accuracy, precision, recall, f1 measures\n",
        "\n",
        "\n",
        "\n"
      ],
      "metadata": {
        "id": "S43IoUT-0OQq"
      }
    },
    {
      "cell_type": "code",
      "source": [
        "# code\n",
        "iris = load_iris()\n",
        "X = iris.data\n",
        "y = iris.target\n",
        "X_train, X_test, y_train, y_test = train_test_split(X, y, test_size=0.2, random_state=3)\n",
        "\n",
        "clf_linear = svm.SVC(kernel='linear')\n",
        "clf_linear.fit(X_train, y_train)\n",
        "y_pred = clf_linear.predict(X_test)\n",
        "\n",
        "clf_linear_acc = accuracy_score(y_test, y_pred)\n",
        "clf_linear_prec = precision_score(y_test, y_pred, average='weighted')\n",
        "clf_linear_rec = recall_score(y_test, y_pred, average='weighted')\n",
        "clf_linear_f1 = f1_score(y_test, y_pred, average='weighted')\n",
        "\n",
        "\n",
        "\n",
        "clf_poly = svm.SVC(kernel='poly', degree=3)\n",
        "clf_poly.fit(X_train, y_train)\n",
        "y_poly_pred = clf_poly.predict(X_test)\n",
        "\n",
        "clf_rbf = svm.SVC(kernel='rbf')\n",
        "clf_rbf.fit(X_train, y_train)\n",
        "y_rbf_pred = clf_rbf.predict(X_test)\n",
        "\n",
        "clf_sig = svm.SVC(kernel='sigmoid')\n",
        "clf_sig.fit(X_train, y_train)\n",
        "y_sig_pred = clf_sig.predict(X_test)\n",
        "\n",
        "clf_poly_acc = accuracy_score(y_test, y_poly_pred)\n",
        "clf_poly_prec = precision_score(y_test, y_poly_pred, average='weighted')\n",
        "clf_poly_rec = recall_score(y_test, y_poly_pred, average='weighted')\n",
        "clf_poly_f1 = f1_score(y_test, y_poly_pred, average='weighted')\n",
        "\n",
        "clf_rbf_acc = accuracy_score(y_test, y_rbf_pred)\n",
        "clf_rbf_prec = precision_score(y_test, y_rbf_pred, average='weighted')\n",
        "clf_rbf_rec = recall_score(y_test, y_rbf_pred, average='weighted')\n",
        "clf_rbf_f1 = f1_score(y_test, y_rbf_pred, average='weighted')\n",
        "\n",
        "clf_sig_acc = accuracy_score(y_test, y_sig_pred)\n",
        "clf_sig_prec = precision_score(y_test, y_sig_pred, average='weighted')\n",
        "clf_sig_rec = recall_score(y_test, y_sig_pred, average='weighted')\n",
        "clf_sig_f1 = f1_score(y_test, y_sig_pred, average='weighted')\n",
        "t = PrettyTable([\"algorithms\",\"SVM\",\"Polynomial kernel\",\"Gaussian kernel\",\"Sigmoid\"])\n",
        "t.add_row([\"Accuracy\",clf_linear_acc,clf_poly_acc,clf_rbf_acc,clf_sig_acc])\n",
        "t.add_row([\"Precision\",clf_linear_prec,clf_poly_prec,clf_rbf_prec,clf_sig_prec])\n",
        "t.add_row([\"Recall\",clf_linear_rec,clf_poly_rec,clf_rbf_rec,clf_sig_rec])\n",
        "t.add_row([\"F1 Score:\",clf_linear_f1,clf_poly_f1,clf_rbf_f1,clf_sig_f1])\n",
        "print(t)\n",
        "\n",
        "\n"
      ],
      "metadata": {
        "id": "_xhPpF5b033h",
        "colab": {
          "base_uri": "https://localhost:8080/"
        },
        "outputId": "8df8a153-5a16-4a2b-c1b8-f5533466f3dc"
      },
      "execution_count": 51,
      "outputs": [
        {
          "output_type": "stream",
          "name": "stdout",
          "text": [
            "+------------+--------------------+--------------------+--------------------+---------------------+\n",
            "| algorithms |        SVM         | Polynomial kernel  |  Gaussian kernel   |       Sigmoid       |\n",
            "+------------+--------------------+--------------------+--------------------+---------------------+\n",
            "|  Accuracy  | 0.9666666666666667 | 0.9666666666666667 | 0.9666666666666667 | 0.06666666666666667 |\n",
            "| Precision  | 0.9696969696969696 | 0.9696969696969696 | 0.9696969696969696 | 0.03508771929824561 |\n",
            "|   Recall   | 0.9666666666666667 | 0.9666666666666667 | 0.9666666666666667 | 0.06666666666666667 |\n",
            "| F1 Score:  | 0.9665831244778613 | 0.9665831244778613 | 0.9665831244778613 | 0.04597701149425288 |\n",
            "+------------+--------------------+--------------------+--------------------+---------------------+\n"
          ]
        },
        {
          "output_type": "stream",
          "name": "stderr",
          "text": [
            "/usr/local/lib/python3.9/dist-packages/sklearn/metrics/_classification.py:1344: UndefinedMetricWarning: Precision is ill-defined and being set to 0.0 in labels with no predicted samples. Use `zero_division` parameter to control this behavior.\n",
            "  _warn_prf(average, modifier, msg_start, len(result))\n"
          ]
        }
      ]
    },
    {
      "cell_type": "markdown",
      "source": [
        "#Task 3. \n",
        "Compare the performance of selected classification algorithms (Decision Tree, kNN, Logistic Regression) and SVM (using different kernels) with mnist dataset based on accuracy, precision, recall, f1 measures.\n"
      ],
      "metadata": {
        "id": "b52OPWPD2afi"
      }
    },
    {
      "cell_type": "code",
      "source": [
        "mnist = datasets.load_digits()\n",
        "X = mnist.data\n",
        "y = mnist.target\n",
        "X_train, X_test, y_train, y_test = train_test_split(X, y, test_size=0.2, random_state=3)\n",
        "\n",
        "dtc = DecisionTreeClassifier(random_state=3)\n",
        "dtc.fit(X_train, y_train)\n",
        "y_pred_dtc = dtc.predict(X_test)\n",
        "dtc_acc = accuracy_score(y_test, y_pred_dtc)\n",
        "dtc_prec = precision_score(y_test, y_pred_dtc,average='weighted')\n",
        "dtc_rec = recall_score(y_test, y_pred_dtc,average='weighted')\n",
        "dtc_f1 = f1_score(y_test, y_pred_dtc,average='weighted')\n",
        "\n",
        "knn = KNeighborsClassifier(n_neighbors= 5)\n",
        "knn.fit(X_train, y_train)\n",
        "y_pred_knn = knn.predict(X_test)\n",
        "knn_acc = accuracy_score(y_test, y_pred_knn)\n",
        "knn_prec = precision_score(y_test, y_pred_knn,average='weighted')\n",
        "knn_rec = recall_score(y_test, y_pred_knn,average='weighted')\n",
        "knn_f1 = f1_score(y_test, y_pred_knn,average='weighted')\n",
        "\n",
        "lg_clf = LogisticRegression(random_state=3)\n",
        "lg_clf.fit(X_train, y_train)\n",
        "y_pred_lg = lg_clf.predict(X_test)\n",
        "lg_acc = accuracy_score(y_test, y_pred_lg)\n",
        "lg_prec = precision_score(y_test, y_pred_lg,average='weighted')\n",
        "lg_rec = recall_score(y_test, y_pred_lg,average='weighted')\n",
        "lg_f1 = f1_score(y_test, y_pred_lg,average='weighted')\n",
        "\n",
        "\n",
        "clf = svm.SVC(kernel='linear', random_state=3)\n",
        "clf.fit(X_train, y_train)\n",
        "y_pred_clf = clf.predict(X_test)\n",
        "clf_acc = accuracy_score(y_test, y_pred_clf)\n",
        "clf_prec = precision_score(y_test, y_pred_clf,average='weighted')\n",
        "clf_rec = recall_score(y_test, y_pred_clf,average='weighted')\n",
        "clf_f1 = f1_score(y_test, y_pred_clf,average='weighted')\n",
        "\n",
        "t = PrettyTable([\"algorithms\",\"SVM\",\"Logistic Regression\",\"Decision Tree\",\"kNN\"])\n",
        "t.add_row([\"Accuracy\",clf_acc,lg_acc,dtc_acc,knn_acc])\n",
        "t.add_row([\"Precision\",clf_prec,lg_prec,dtc_prec,knn_prec])\n",
        "t.add_row([\"Recall\",clf_rec,lg_rec,dtc_rec,knn_rec])\n",
        "t.add_row([\"F1 Score:\",clf_f1,lg_f1,dtc_f1,knn_f1])\n",
        "print(t)"
      ],
      "metadata": {
        "colab": {
          "base_uri": "https://localhost:8080/"
        },
        "id": "N3rYLQYQ6IFl",
        "outputId": "7b017b3a-8c5a-4f25-c1b5-4e18e5b515e4"
      },
      "execution_count": 7,
      "outputs": [
        {
          "output_type": "stream",
          "name": "stderr",
          "text": [
            "/usr/local/lib/python3.9/dist-packages/sklearn/linear_model/_logistic.py:458: ConvergenceWarning: lbfgs failed to converge (status=1):\n",
            "STOP: TOTAL NO. of ITERATIONS REACHED LIMIT.\n",
            "\n",
            "Increase the number of iterations (max_iter) or scale the data as shown in:\n",
            "    https://scikit-learn.org/stable/modules/preprocessing.html\n",
            "Please also refer to the documentation for alternative solver options:\n",
            "    https://scikit-learn.org/stable/modules/linear_model.html#logistic-regression\n",
            "  n_iter_i = _check_optimize_result(\n"
          ]
        },
        {
          "output_type": "stream",
          "name": "stdout",
          "text": [
            "+------------+--------------------+---------------------+--------------------+--------------------+\n",
            "| algorithms |        SVM         | Logistic Regression |   Decision Tree    |        kNN         |\n",
            "+------------+--------------------+---------------------+--------------------+--------------------+\n",
            "|  Accuracy  |       0.975        |  0.9527777777777777 | 0.8666666666666667 | 0.9861111111111112 |\n",
            "| Precision  | 0.9755693342151674 |  0.9539246351393528 | 0.8692804929264668 | 0.9863410545096591 |\n",
            "|   Recall   |       0.975        |  0.9527777777777777 | 0.8666666666666667 | 0.9861111111111112 |\n",
            "| F1 Score:  | 0.9749390796787176 |  0.9524509249404091 | 0.8668359095990273 | 0.9860792172524407 |\n",
            "+------------+--------------------+---------------------+--------------------+--------------------+\n"
          ]
        }
      ]
    },
    {
      "cell_type": "markdown",
      "source": [
        "#Task 4. \n",
        "Compare the performance of selected classification algorithms (Decision Tree, kNN, Logistic Regression) and SVM (using different kernels) with **credit card dataset** based on accuracy, precision, recall, f1 measures.\n",
        "\n",
        "*   Give some comments on the obtained results\n",
        "*   Identify issues with dataset, and propose the solutions to these issues\n",
        "\n"
      ],
      "metadata": {
        "id": "Z5pp7_h-aP2u"
      }
    },
    {
      "cell_type": "code",
      "source": [
        "# code\n",
        "\n",
        "file = pd.read_csv('creditcard.csv')\n",
        "X = file.drop('Class', axis=1)\n",
        "y = file['Class']\n",
        "X_train, X_test, y_train, y_test = train_test_split(X, y, test_size=0.2, random_state=3)\n",
        "dtc = DecisionTreeClassifier(random_state=3)\n",
        "dtc.fit(X_train, y_train)\n",
        "y_pred_dtc = dtc.predict(X_test)\n",
        "dtc_acc = accuracy_score(y_test, y_pred_dtc)\n",
        "dtc_prec = precision_score(y_test, y_pred_dtc)\n",
        "dtc_rec = recall_score(y_test, y_pred_dtc)\n",
        "dtc_f1 = f1_score(y_test, y_pred_dtc)\n",
        "\n",
        "knn = KNeighborsClassifier(n_neighbors=5)\n",
        "knn.fit(X_train, y_train)\n",
        "y_pred_knn = knn.predict(X_test)\n",
        "knn_acc = accuracy_score(y_test, y_pred_knn)\n",
        "knn_prec = precision_score(y_test, y_pred_knn)\n",
        "knn_rec = recall_score(y_test, y_pred_knn)\n",
        "knn_f1 = f1_score(y_test, y_pred_knn)\n",
        "\n",
        "lg = LogisticRegression(random_state=3)\n",
        "lg.fit(X_train, y_train)\n",
        "y_pred_lg = lg.predict(X_test)\n",
        "lg_acc = accuracy_score(y_test, y_pred_lg)\n",
        "lg_prec = precision_score(y_test, y_pred_lg)\n",
        "lg_rec = recall_score(y_test, y_pred_lg)\n",
        "lg_f1 = f1_score(y_test, y_pred_lg)\n",
        "\n",
        "\n",
        "\n",
        "clf = svm.SVC(kernel='rbf', random_state=3)\n",
        "clf.fit(X_train, y_train)\n",
        "y_pred_clf = clf.predict(X_test)\n",
        "clf_acc = accuracy_score(y_test, y_pred_clf)\n",
        "clf_prec = precision_score(y_test, y_pred_clf)\n",
        "clf_rec = recall_score(y_test, y_pred_clf)\n",
        "clf_f1 = f1_score(y_test, y_pred_clf)\n",
        "\n",
        "\n",
        "t = PrettyTable([\"algorithms\",\"SVM\",\"Logistic Regression\",\"Decision Tree\",\"kNN\"])\n",
        "t.add_row([\"Accuracy\",clf_acc,lg_acc,dtc_acc,knn_acc])\n",
        "t.add_row([\"Precision\",clf_prec,lg_prec,dtc_prec,knn_prec])\n",
        "t.add_row([\"Recall\",clf_rec,lg_rec,dtc_rec,knn_rec])\n",
        "t.add_row([\"F1 Score:\",clf_f1,lg_f1,dtc_f1,knn_f1])\n",
        "print(t)"
      ],
      "metadata": {
        "id": "Rw_-8FIf2KxW",
        "colab": {
          "base_uri": "https://localhost:8080/"
        },
        "outputId": "9f2dd95f-cc8b-494a-9068-3eb9a2bdfc3b"
      },
      "execution_count": 4,
      "outputs": [
        {
          "output_type": "stream",
          "name": "stderr",
          "text": [
            "/usr/local/lib/python3.9/dist-packages/sklearn/linear_model/_logistic.py:458: ConvergenceWarning: lbfgs failed to converge (status=1):\n",
            "STOP: TOTAL NO. of ITERATIONS REACHED LIMIT.\n",
            "\n",
            "Increase the number of iterations (max_iter) or scale the data as shown in:\n",
            "    https://scikit-learn.org/stable/modules/preprocessing.html\n",
            "Please also refer to the documentation for alternative solver options:\n",
            "    https://scikit-learn.org/stable/modules/linear_model.html#logistic-regression\n",
            "  n_iter_i = _check_optimize_result(\n"
          ]
        },
        {
          "output_type": "stream",
          "name": "stdout",
          "text": [
            "+------------+--------------------+---------------------+--------------------+---------------------+\n",
            "| algorithms |        SVM         | Logistic Regression |   Decision Tree    |         kNN         |\n",
            "+------------+--------------------+---------------------+--------------------+---------------------+\n",
            "|  Accuracy  | 0.9982444436641972 |  0.9988062216916541 | 0.9992099996488887 |  0.9982971103542713 |\n",
            "| Precision  |        0.0         |  0.6568627450980392 | 0.8089887640449438 |  0.7142857142857143 |\n",
            "|   Recall   |        0.0         |         0.67        |        0.72        |         0.05        |\n",
            "| F1 Score:  |        0.0         |  0.6633663366336634 | 0.761904761904762  | 0.09345794392523366 |\n",
            "+------------+--------------------+---------------------+--------------------+---------------------+\n"
          ]
        },
        {
          "output_type": "stream",
          "name": "stderr",
          "text": [
            "/usr/local/lib/python3.9/dist-packages/sklearn/metrics/_classification.py:1344: UndefinedMetricWarning: Precision is ill-defined and being set to 0.0 due to no predicted samples. Use `zero_division` parameter to control this behavior.\n",
            "  _warn_prf(average, modifier, msg_start, len(result))\n"
          ]
        }
      ]
    },
    {
      "cell_type": "markdown",
      "source": [
        "#Finally,\n",
        "Save a copy in your Github. Remember renaming the notebook."
      ],
      "metadata": {
        "id": "Ok7RGkea_b7n"
      }
    }
  ]
}